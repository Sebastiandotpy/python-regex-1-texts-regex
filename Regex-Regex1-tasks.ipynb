{
 "cells": [
  {
   "cell_type": "code",
   "execution_count": 3,
   "metadata": {},
   "outputs": [
    {
     "name": "stdout",
     "output_type": "stream",
     "text": [
      "The first white-space character is located at position: 6\n",
      "None\n",
      "Berlin--is-a-city-of-culture.\n",
      "The match 'in' starts at position: 4 and ends at position: 6\n",
      "The first word starting with 'B' is located at position: 0 and ends at position: 6\n",
      "The subphrase 'ai' appears 2 times.\n"
     ]
    }
   ],
   "source": [
    "import re\n",
    "\n",
    "def find_position_and_count(text: str, pattern: str) -> tuple:\n",
    "    \"\"\"\n",
    "    Find the position of the first match for the specified pattern in the text,\n",
    "    and count the number of occurrences of the pattern in the text.\n",
    "\n",
    "    Args:\n",
    "        text (str): The text to search.\n",
    "        pattern (str): The regex pattern to find the first match.\n",
    "\n",
    "    Returns:\n",
    "        A tuple containing the match position and the count of the pattern.\n",
    "    \"\"\"\n",
    "\n",
    "    match = re.search(pattern, text)  # Find the first match using the specified pattern\n",
    "    position = match.span() if match else None  # Get the match position or None if no match found\n",
    "    count = text.count(pattern)  # Count the occurrences of the pattern in the text\n",
    "    return position, count\n",
    "\n",
    "def manipulate_text(text: str, pattern: str) -> str:\n",
    "    \"\"\"\n",
    "    Manipulate the given text based on the specified pattern.\n",
    "\n",
    "    Args:\n",
    "        text (str): The text to manipulate.\n",
    "        pattern (str): The regex pattern to find the first match.\n",
    "\n",
    "    Returns:\n",
    "        str: The manipulated text.\n",
    "    \"\"\"\n",
    "    manipulated_text = re.sub(pattern, \"-\", text)\n",
    "    return manipulated_text\n",
    "\n",
    "# Task 1\n",
    "text_task1 = \"Berlin is a world city of culture, politics, media and science.\"\n",
    "pattern_task1 = r\"\\s\"\n",
    "position_task1, _ = find_position_and_count(text_task1, pattern_task1)\n",
    "print(f\"The first white-space character is located at position: {position_task1[0]}\")\n",
    "\n",
    "# Task 2\n",
    "text_task2 = \"Berlin is surrounded by the State of Brandenburg and contiguous with Potsdam, Brandenburg's capital.\"\n",
    "pattern_task2 = r\"Frankfurt\"\n",
    "position_task2, _ = find_position_and_count(text_task2, pattern_task2)\n",
    "print(position_task2)\n",
    "\n",
    "# Task 3\n",
    "text_task3 = \"Berlin is a city of culture.\"\n",
    "pattern_task3 = r\"\\s\"\n",
    "manipulated_text_task3 = manipulate_text(text_task3, pattern_task3)\n",
    "print(manipulated_text_task3)\n",
    "\n",
    "# Task 4\n",
    "text_task4 = \"Berlin is a city of culture.\"\n",
    "pattern_task4 = r\"in\"\n",
    "position_task4, _ = find_position_and_count(text_task4, pattern_task4)\n",
    "print(f\"The match 'in' starts at position: {position_task4[0]} and ends at position: {position_task4[1]}\")\n",
    "\n",
    "# Task 5\n",
    "text_task5 = \"Berlin is a city of culture.\"\n",
    "pattern_task5 = r\"\\bB\\w+\"\n",
    "position_task5, _ = find_position_and_count(text_task5, pattern_task5)\n",
    "print(f\"The first word starting with 'B' is located at position: {position_task5[0]} and ends at position: {position_task5[1]}\")\n",
    "\n",
    "# Task 6\n",
    "text_task6 = \"The rain in spain.\"\n",
    "pattern_task6 = r\"ai\"\n",
    "_, count_task6 = find_position_and_count(text_task6, pattern_task6)\n",
    "print(f\"The subphrase 'ai' appears {count_task6} times.\")\n"
   ]
  }
 ],
 "metadata": {
  "kernelspec": {
   "display_name": "Python 3",
   "language": "python",
   "name": "python3"
  },
  "language_info": {
   "codemirror_mode": {
    "name": "ipython",
    "version": 3
   },
   "file_extension": ".py",
   "mimetype": "text/x-python",
   "name": "python",
   "nbconvert_exporter": "python",
   "pygments_lexer": "ipython3",
   "version": "3.11.3"
  },
  "orig_nbformat": 4
 },
 "nbformat": 4,
 "nbformat_minor": 2
}
